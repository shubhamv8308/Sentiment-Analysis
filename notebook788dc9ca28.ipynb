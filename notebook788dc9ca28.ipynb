{
  "metadata": {
    "colab": {
      "provenance": [],
      "gpuType": "T4",
      "include_colab_link": true
    },
    "kernelspec": {
      "name": "python3",
      "display_name": "Python 3",
      "language": "python"
    },
    "language_info": {
      "name": "python",
      "version": "3.10.13",
      "mimetype": "text/x-python",
      "codemirror_mode": {
        "name": "ipython",
        "version": 3
      },
      "pygments_lexer": "ipython3",
      "nbconvert_exporter": "python",
      "file_extension": ".py"
    },
    "accelerator": "GPU",
    "kaggle": {
      "accelerator": "nvidiaTeslaT4",
      "dataSources": [
        {
          "sourceId": 9061206,
          "sourceType": "datasetVersion",
          "datasetId": 5464408
        }
      ],
      "dockerImageVersionId": 30747,
      "isInternetEnabled": true,
      "language": "python",
      "sourceType": "notebook",
      "isGpuEnabled": true
    }
  },
  "nbformat_minor": 0,
  "nbformat": 4,
  "cells": [
    {
      "cell_type": "markdown",
      "metadata": {
        "id": "view-in-github",
        "colab_type": "text"
      },
      "source": [
        "<a href=\"https://colab.research.google.com/github/Krishnaugale353/Sentiment-Analysis-on-IMDB-dataset/blob/main/notebook788dc9ca28.ipynb\" target=\"_parent\"><img src=\"https://colab.research.google.com/assets/colab-badge.svg\" alt=\"Open In Colab\"/></a>"
      ]
    },
    {
      "cell_type": "code",
      "source": [
        "import numpy as np\n",
        "import re\n",
        "import pandas as pd\n",
        "import os"
      ],
      "metadata": {
        "id": "8fxCDNq3TLIK",
        "execution": {
          "iopub.status.busy": "2024-07-30T10:09:08.464295Z",
          "iopub.execute_input": "2024-07-30T10:09:08.464694Z",
          "iopub.status.idle": "2024-07-30T10:09:08.845833Z",
          "shell.execute_reply.started": "2024-07-30T10:09:08.464664Z",
          "shell.execute_reply": "2024-07-30T10:09:08.845010Z"
        },
        "trusted": true
      },
      "execution_count": null,
      "outputs": []
    },
    {
      "cell_type": "code",
      "source": [
        "from google.colab import drive\n",
        "drive.mount('/content/drive')"
      ],
      "metadata": {
        "colab": {
          "base_uri": "https://localhost:8080/"
        },
        "id": "22-p3d_uX5GM",
        "outputId": "5fb11310-821b-4876-b82b-14aa05f1151f"
      },
      "execution_count": null,
      "outputs": [
        {
          "output_type": "stream",
          "name": "stdout",
          "text": [
            "Mounted at /content/drive\n"
          ]
        }
      ]
    },
    {
      "cell_type": "code",
      "source": [
        "os.listdir('/kaggle/input/')"
      ],
      "metadata": {
        "execution": {
          "iopub.status.busy": "2024-07-30T10:09:09.873576Z",
          "iopub.execute_input": "2024-07-30T10:09:09.874433Z",
          "iopub.status.idle": "2024-07-30T10:09:09.882178Z",
          "shell.execute_reply.started": "2024-07-30T10:09:09.874400Z",
          "shell.execute_reply": "2024-07-30T10:09:09.881209Z"
        },
        "trusted": true,
        "id": "YK3jaeNiP4NM",
        "outputId": "f4995a5d-45ae-4588-fa33-185565cbd804"
      },
      "execution_count": null,
      "outputs": [
        {
          "execution_count": 3,
          "output_type": "execute_result",
          "data": {
            "text/plain": "['imdb-dataset']"
          },
          "metadata": {}
        }
      ]
    },
    {
      "cell_type": "code",
      "source": [
        "df = pd.read_csv('/content/drive/MyDrive/train.csv')"
      ],
      "metadata": {
        "id": "NJ9PGUbzViCQ",
        "execution": {
          "iopub.status.busy": "2024-07-30T10:09:11.388882Z",
          "iopub.execute_input": "2024-07-30T10:09:11.389279Z",
          "iopub.status.idle": "2024-07-30T10:09:12.760535Z",
          "shell.execute_reply.started": "2024-07-30T10:09:11.389248Z",
          "shell.execute_reply": "2024-07-30T10:09:12.759623Z"
        },
        "trusted": true
      },
      "execution_count": null,
      "outputs": []
    },
    {
      "cell_type": "code",
      "source": [
        "df.head()"
      ],
      "metadata": {
        "colab": {
          "base_uri": "https://localhost:8080/",
          "height": 206
        },
        "id": "-vG7vV1FVt7x",
        "outputId": "e5bda50b-44f7-413d-a5f0-83a8911c6c07",
        "execution": {
          "iopub.status.busy": "2024-07-30T10:09:12.762157Z",
          "iopub.execute_input": "2024-07-30T10:09:12.762458Z",
          "iopub.status.idle": "2024-07-30T10:09:12.779429Z",
          "shell.execute_reply.started": "2024-07-30T10:09:12.762432Z",
          "shell.execute_reply": "2024-07-30T10:09:12.778542Z"
        },
        "trusted": true
      },
      "execution_count": null,
      "outputs": [
        {
          "output_type": "execute_result",
          "data": {
            "text/plain": [
              "                                              review sentiment\n",
              "0  That's what I kept asking myself during the ma...  negative\n",
              "1  I did not watch the entire movie. I could not ...  negative\n",
              "2  A touching love story reminiscent of In the M...  positive\n",
              "3  This latter-day Fulci schlocker is a totally a...  negative\n",
              "4  First of all, I firmly believe that Norwegian ...  negative"
            ],
            "text/html": [
              "\n",
              "  <div id=\"df-2b8dfea7-b2d7-4ab3-84eb-9d1eb62f174a\" class=\"colab-df-container\">\n",
              "    <div>\n",
              "<style scoped>\n",
              "    .dataframe tbody tr th:only-of-type {\n",
              "        vertical-align: middle;\n",
              "    }\n",
              "\n",
              "    .dataframe tbody tr th {\n",
              "        vertical-align: top;\n",
              "    }\n",
              "\n",
              "    .dataframe thead th {\n",
              "        text-align: right;\n",
              "    }\n",
              "</style>\n",
              "<table border=\"1\" class=\"dataframe\">\n",
              "  <thead>\n",
              "    <tr style=\"text-align: right;\">\n",
              "      <th></th>\n",
              "      <th>review</th>\n",
              "      <th>sentiment</th>\n",
              "    </tr>\n",
              "  </thead>\n",
              "  <tbody>\n",
              "    <tr>\n",
              "      <th>0</th>\n",
              "      <td>That's what I kept asking myself during the ma...</td>\n",
              "      <td>negative</td>\n",
              "    </tr>\n",
              "    <tr>\n",
              "      <th>1</th>\n",
              "      <td>I did not watch the entire movie. I could not ...</td>\n",
              "      <td>negative</td>\n",
              "    </tr>\n",
              "    <tr>\n",
              "      <th>2</th>\n",
              "      <td>A touching love story reminiscent of In the M...</td>\n",
              "      <td>positive</td>\n",
              "    </tr>\n",
              "    <tr>\n",
              "      <th>3</th>\n",
              "      <td>This latter-day Fulci schlocker is a totally a...</td>\n",
              "      <td>negative</td>\n",
              "    </tr>\n",
              "    <tr>\n",
              "      <th>4</th>\n",
              "      <td>First of all, I firmly believe that Norwegian ...</td>\n",
              "      <td>negative</td>\n",
              "    </tr>\n",
              "  </tbody>\n",
              "</table>\n",
              "</div>\n",
              "    <div class=\"colab-df-buttons\">\n",
              "\n",
              "  <div class=\"colab-df-container\">\n",
              "    <button class=\"colab-df-convert\" onclick=\"convertToInteractive('df-2b8dfea7-b2d7-4ab3-84eb-9d1eb62f174a')\"\n",
              "            title=\"Convert this dataframe to an interactive table.\"\n",
              "            style=\"display:none;\">\n",
              "\n",
              "  <svg xmlns=\"http://www.w3.org/2000/svg\" height=\"24px\" viewBox=\"0 -960 960 960\">\n",
              "    <path d=\"M120-120v-720h720v720H120Zm60-500h600v-160H180v160Zm220 220h160v-160H400v160Zm0 220h160v-160H400v160ZM180-400h160v-160H180v160Zm440 0h160v-160H620v160ZM180-180h160v-160H180v160Zm440 0h160v-160H620v160Z\"/>\n",
              "  </svg>\n",
              "    </button>\n",
              "\n",
              "  <style>\n",
              "    .colab-df-container {\n",
              "      display:flex;\n",
              "      gap: 12px;\n",
              "    }\n",
              "\n",
              "    .colab-df-convert {\n",
              "      background-color: #E8F0FE;\n",
              "      border: none;\n",
              "      border-radius: 50%;\n",
              "      cursor: pointer;\n",
              "      display: none;\n",
              "      fill: #1967D2;\n",
              "      height: 32px;\n",
              "      padding: 0 0 0 0;\n",
              "      width: 32px;\n",
              "    }\n",
              "\n",
              "    .colab-df-convert:hover {\n",
              "      background-color: #E2EBFA;\n",
              "      box-shadow: 0px 1px 2px rgba(60, 64, 67, 0.3), 0px 1px 3px 1px rgba(60, 64, 67, 0.15);\n",
              "      fill: #174EA6;\n",
              "    }\n",
              "\n",
              "    .colab-df-buttons div {\n",
              "      margin-bottom: 4px;\n",
              "    }\n",
              "\n",
              "    [theme=dark] .colab-df-convert {\n",
              "      background-color: #3B4455;\n",
              "      fill: #D2E3FC;\n",
              "    }\n",
              "\n",
              "    [theme=dark] .colab-df-convert:hover {\n",
              "      background-color: #434B5C;\n",
              "      box-shadow: 0px 1px 3px 1px rgba(0, 0, 0, 0.15);\n",
              "      filter: drop-shadow(0px 1px 2px rgba(0, 0, 0, 0.3));\n",
              "      fill: #FFFFFF;\n",
              "    }\n",
              "  </style>\n",
              "\n",
              "    <script>\n",
              "      const buttonEl =\n",
              "        document.querySelector('#df-2b8dfea7-b2d7-4ab3-84eb-9d1eb62f174a button.colab-df-convert');\n",
              "      buttonEl.style.display =\n",
              "        google.colab.kernel.accessAllowed ? 'block' : 'none';\n",
              "\n",
              "      async function convertToInteractive(key) {\n",
              "        const element = document.querySelector('#df-2b8dfea7-b2d7-4ab3-84eb-9d1eb62f174a');\n",
              "        const dataTable =\n",
              "          await google.colab.kernel.invokeFunction('convertToInteractive',\n",
              "                                                    [key], {});\n",
              "        if (!dataTable) return;\n",
              "\n",
              "        const docLinkHtml = 'Like what you see? Visit the ' +\n",
              "          '<a target=\"_blank\" href=https://colab.research.google.com/notebooks/data_table.ipynb>data table notebook</a>'\n",
              "          + ' to learn more about interactive tables.';\n",
              "        element.innerHTML = '';\n",
              "        dataTable['output_type'] = 'display_data';\n",
              "        await google.colab.output.renderOutput(dataTable, element);\n",
              "        const docLink = document.createElement('div');\n",
              "        docLink.innerHTML = docLinkHtml;\n",
              "        element.appendChild(docLink);\n",
              "      }\n",
              "    </script>\n",
              "  </div>\n",
              "\n",
              "\n",
              "<div id=\"df-d084b75f-19f1-495f-958e-51a26015767d\">\n",
              "  <button class=\"colab-df-quickchart\" onclick=\"quickchart('df-d084b75f-19f1-495f-958e-51a26015767d')\"\n",
              "            title=\"Suggest charts\"\n",
              "            style=\"display:none;\">\n",
              "\n",
              "<svg xmlns=\"http://www.w3.org/2000/svg\" height=\"24px\"viewBox=\"0 0 24 24\"\n",
              "     width=\"24px\">\n",
              "    <g>\n",
              "        <path d=\"M19 3H5c-1.1 0-2 .9-2 2v14c0 1.1.9 2 2 2h14c1.1 0 2-.9 2-2V5c0-1.1-.9-2-2-2zM9 17H7v-7h2v7zm4 0h-2V7h2v10zm4 0h-2v-4h2v4z\"/>\n",
              "    </g>\n",
              "</svg>\n",
              "  </button>\n",
              "\n",
              "<style>\n",
              "  .colab-df-quickchart {\n",
              "      --bg-color: #E8F0FE;\n",
              "      --fill-color: #1967D2;\n",
              "      --hover-bg-color: #E2EBFA;\n",
              "      --hover-fill-color: #174EA6;\n",
              "      --disabled-fill-color: #AAA;\n",
              "      --disabled-bg-color: #DDD;\n",
              "  }\n",
              "\n",
              "  [theme=dark] .colab-df-quickchart {\n",
              "      --bg-color: #3B4455;\n",
              "      --fill-color: #D2E3FC;\n",
              "      --hover-bg-color: #434B5C;\n",
              "      --hover-fill-color: #FFFFFF;\n",
              "      --disabled-bg-color: #3B4455;\n",
              "      --disabled-fill-color: #666;\n",
              "  }\n",
              "\n",
              "  .colab-df-quickchart {\n",
              "    background-color: var(--bg-color);\n",
              "    border: none;\n",
              "    border-radius: 50%;\n",
              "    cursor: pointer;\n",
              "    display: none;\n",
              "    fill: var(--fill-color);\n",
              "    height: 32px;\n",
              "    padding: 0;\n",
              "    width: 32px;\n",
              "  }\n",
              "\n",
              "  .colab-df-quickchart:hover {\n",
              "    background-color: var(--hover-bg-color);\n",
              "    box-shadow: 0 1px 2px rgba(60, 64, 67, 0.3), 0 1px 3px 1px rgba(60, 64, 67, 0.15);\n",
              "    fill: var(--button-hover-fill-color);\n",
              "  }\n",
              "\n",
              "  .colab-df-quickchart-complete:disabled,\n",
              "  .colab-df-quickchart-complete:disabled:hover {\n",
              "    background-color: var(--disabled-bg-color);\n",
              "    fill: var(--disabled-fill-color);\n",
              "    box-shadow: none;\n",
              "  }\n",
              "\n",
              "  .colab-df-spinner {\n",
              "    border: 2px solid var(--fill-color);\n",
              "    border-color: transparent;\n",
              "    border-bottom-color: var(--fill-color);\n",
              "    animation:\n",
              "      spin 1s steps(1) infinite;\n",
              "  }\n",
              "\n",
              "  @keyframes spin {\n",
              "    0% {\n",
              "      border-color: transparent;\n",
              "      border-bottom-color: var(--fill-color);\n",
              "      border-left-color: var(--fill-color);\n",
              "    }\n",
              "    20% {\n",
              "      border-color: transparent;\n",
              "      border-left-color: var(--fill-color);\n",
              "      border-top-color: var(--fill-color);\n",
              "    }\n",
              "    30% {\n",
              "      border-color: transparent;\n",
              "      border-left-color: var(--fill-color);\n",
              "      border-top-color: var(--fill-color);\n",
              "      border-right-color: var(--fill-color);\n",
              "    }\n",
              "    40% {\n",
              "      border-color: transparent;\n",
              "      border-right-color: var(--fill-color);\n",
              "      border-top-color: var(--fill-color);\n",
              "    }\n",
              "    60% {\n",
              "      border-color: transparent;\n",
              "      border-right-color: var(--fill-color);\n",
              "    }\n",
              "    80% {\n",
              "      border-color: transparent;\n",
              "      border-right-color: var(--fill-color);\n",
              "      border-bottom-color: var(--fill-color);\n",
              "    }\n",
              "    90% {\n",
              "      border-color: transparent;\n",
              "      border-bottom-color: var(--fill-color);\n",
              "    }\n",
              "  }\n",
              "</style>\n",
              "\n",
              "  <script>\n",
              "    async function quickchart(key) {\n",
              "      const quickchartButtonEl =\n",
              "        document.querySelector('#' + key + ' button');\n",
              "      quickchartButtonEl.disabled = true;  // To prevent multiple clicks.\n",
              "      quickchartButtonEl.classList.add('colab-df-spinner');\n",
              "      try {\n",
              "        const charts = await google.colab.kernel.invokeFunction(\n",
              "            'suggestCharts', [key], {});\n",
              "      } catch (error) {\n",
              "        console.error('Error during call to suggestCharts:', error);\n",
              "      }\n",
              "      quickchartButtonEl.classList.remove('colab-df-spinner');\n",
              "      quickchartButtonEl.classList.add('colab-df-quickchart-complete');\n",
              "    }\n",
              "    (() => {\n",
              "      let quickchartButtonEl =\n",
              "        document.querySelector('#df-d084b75f-19f1-495f-958e-51a26015767d button');\n",
              "      quickchartButtonEl.style.display =\n",
              "        google.colab.kernel.accessAllowed ? 'block' : 'none';\n",
              "    })();\n",
              "  </script>\n",
              "</div>\n",
              "\n",
              "    </div>\n",
              "  </div>\n"
            ],
            "application/vnd.google.colaboratory.intrinsic+json": {
              "type": "dataframe",
              "variable_name": "df",
              "summary": "{\n  \"name\": \"df\",\n  \"rows\": 40000,\n  \"fields\": [\n    {\n      \"column\": \"review\",\n      \"properties\": {\n        \"dtype\": \"string\",\n        \"num_unique_values\": 39743,\n        \"samples\": [\n          \"For me this is a good series. I am kind of disappointed that Ana Lucia and Libby died but more upset that Micheal lied to everyone about who killed them. And if any one can answer this what was that guys name who was supposedly \\\"Henry Gale\\\" he was like the leader of the others (or was that Ms. Clue??) anyway if you know his name cool. Well trying to think of what can possibly happen next after they finally didn't press the button. Does that mess up the whole DARMA project thing and i personally thought it was cool how they had that key thing underground that Desmond used to shut off the magnet thing, yeah and what was the whole point of that? I am just glad they didn't press the button finally, but what happens to the people in the hatch? Like Mr. Echo, John, Charlie and well Desmond probably died but what about the others? I think they survived, I forget? well this is just my little thing on what i thought about this season finale!!!\",\n          \"I am not saying that Night of the Twisters was horrible, but it was far from great. Mediocre at absolute best. I seems though that every time one type of movie is released, a second must be around the same time. (Think about Armageddon and Deep Impact, Volcano and Dante's Peak) Night of the Twisters is really just Twister except worse and with mundane special effects.<br /><br />I have nothing against the actors who starred in it, even if they weren't great, it was the movie itself, the directing, the special effects, the whole storyline was just too strange to interpret. A series of tornadoes strike a town and basically the movie is about people trying to find family and friends and deal with the damage.<br /><br />I really don't know why it seems as though duplicates of disaster movies are released almost in sync with each other, but this one would have been better with Bill Paxton and Helen Hunt.\",\n          \"What makes this low budget production one of my favorite movies? Not kidding, i was watching it already 10 times or so and did not get tired. Is it the tender melancholia throughout the whole thing? Is it the similarity to classics like \\\"Niagara\\\"? I was thinking a long time about that. And figured it out: I guess it is: there is no hero, there are only people. Some try to be good. Some gave up trying to be good. Some are hopeless cases but carry still the spunk of being human inside. It is the story of a catastrophic night in a motel at the end of the world. One way the catastrophe is nothing but the end of a chain of coincidences. The other way this night reveals the logical consequents of this peoples lives because they are in a certain constellation cut off the rest of the world. It has something of a Dostoevsky tale.\"\n        ],\n        \"semantic_type\": \"\",\n        \"description\": \"\"\n      }\n    },\n    {\n      \"column\": \"sentiment\",\n      \"properties\": {\n        \"dtype\": \"category\",\n        \"num_unique_values\": 2,\n        \"samples\": [\n          \"positive\",\n          \"negative\"\n        ],\n        \"semantic_type\": \"\",\n        \"description\": \"\"\n      }\n    }\n  ]\n}"
            }
          },
          "metadata": {},
          "execution_count": 12
        }
      ]
    },
    {
      "cell_type": "code",
      "source": [
        "df.isnull().sum()"
      ],
      "metadata": {
        "colab": {
          "base_uri": "https://localhost:8080/",
          "height": 147
        },
        "id": "HYZzxrt2Vz95",
        "outputId": "b2eca16d-aaf6-4dd1-bb30-c72b0707c89f",
        "execution": {
          "iopub.status.busy": "2024-07-30T10:09:12.780710Z",
          "iopub.execute_input": "2024-07-30T10:09:12.781089Z",
          "iopub.status.idle": "2024-07-30T10:09:12.799274Z",
          "shell.execute_reply.started": "2024-07-30T10:09:12.781055Z",
          "shell.execute_reply": "2024-07-30T10:09:12.798391Z"
        },
        "trusted": true
      },
      "execution_count": null,
      "outputs": [
        {
          "output_type": "execute_result",
          "data": {
            "text/plain": [
              "review       0\n",
              "sentiment    0\n",
              "dtype: int64"
            ],
            "text/html": [
              "<table border=\"1\" class=\"dataframe\">\n",
              "  <thead>\n",
              "    <tr style=\"text-align: right;\">\n",
              "      <th></th>\n",
              "      <th>0</th>\n",
              "    </tr>\n",
              "  </thead>\n",
              "  <tbody>\n",
              "    <tr>\n",
              "      <th>review</th>\n",
              "      <td>0</td>\n",
              "    </tr>\n",
              "    <tr>\n",
              "      <th>sentiment</th>\n",
              "      <td>0</td>\n",
              "    </tr>\n",
              "  </tbody>\n",
              "</table><br><label><b>dtype:</b> int64</label>"
            ]
          },
          "metadata": {},
          "execution_count": 7
        }
      ]
    },
    {
      "cell_type": "code",
      "source": [
        "df['review'][4]"
      ],
      "metadata": {
        "colab": {
          "base_uri": "https://localhost:8080/",
          "height": 140
        },
        "id": "sOmIguxNV3O4",
        "outputId": "b8319741-939e-44f7-98b6-bbd938fa739c",
        "execution": {
          "iopub.status.busy": "2024-07-30T10:09:12.801338Z",
          "iopub.execute_input": "2024-07-30T10:09:12.801627Z",
          "iopub.status.idle": "2024-07-30T10:09:12.808561Z",
          "shell.execute_reply.started": "2024-07-30T10:09:12.801604Z",
          "shell.execute_reply": "2024-07-30T10:09:12.807386Z"
        },
        "trusted": true
      },
      "execution_count": null,
      "outputs": [
        {
          "output_type": "execute_result",
          "data": {
            "text/plain": [
              "\"First of all, I firmly believe that Norwegian movies are continually getting better. From the tedious emotional films of the 70's and 80's, movies from this place actually started to contain a bit of humour. Imagine.. Actual comedies were made! Movies were actually starting to get entertaining and funny, as opposed to long, dark, depressing and boring.<br /><br />During the 90's and 00's several really great movies were made by a 'new generation' of filmmakers. Movie after movie were praised by critics and played loads of money. It became the norm!<br /><br />Then came United...<br /><br />*MINOR SPOILERS* It's just simply not funny. Not once. Not ever. But the thing is... We THINK its funny. Because we're used to norwegian movies to be funny. Especially with a cast like this with a few really funny comedians. But.. They neither say nor do anything funny! Where's the humor? Show me the humor! Is it the awkward clerk played by Harald Eia? Is it the overacting totally ridiculously unrealistic football coach? Is it the commentaries by Arne Scheie? The movie is just not funny!<br /><br />But thats not my main rant about United. That namely is the predictability. (And it is here I fear that norwegian comedies have come to a standstill since I have seen this in many other movies as well.) All the time you just know its going to end well. All characters are exactly as they are presented in the start of the movie, and everybody gets exactly what they deserve in the end. There's absolutely no room for surprises at all!<br /><br />All in all I can say that I sat with a bad feeling after seeing this movie. It was the one movie that made me realize that we probably need some new blood in norwegian movie making... again!<br /><br />Rating: 1/6\""
            ],
            "application/vnd.google.colaboratory.intrinsic+json": {
              "type": "string"
            }
          },
          "metadata": {},
          "execution_count": 8
        }
      ]
    },
    {
      "cell_type": "markdown",
      "source": [
        "**Text Preprocessing**"
      ],
      "metadata": {
        "id": "lymz0E-WWlAJ"
      }
    },
    {
      "cell_type": "code",
      "source": [
        "def preprocessing_text(text):\n",
        "  text = text.lower()\n",
        "  text = re.sub('[^a-z ]', '', text)\n",
        "  text = re.sub('<[^>]+>', '', text)\n",
        "  return text"
      ],
      "metadata": {
        "id": "tmUrSGsdV6U_",
        "execution": {
          "iopub.status.busy": "2024-07-30T10:09:12.809906Z",
          "iopub.execute_input": "2024-07-30T10:09:12.810340Z",
          "iopub.status.idle": "2024-07-30T10:09:12.816567Z",
          "shell.execute_reply.started": "2024-07-30T10:09:12.810291Z",
          "shell.execute_reply": "2024-07-30T10:09:12.815413Z"
        },
        "trusted": true
      },
      "execution_count": null,
      "outputs": []
    },
    {
      "cell_type": "code",
      "source": [
        "df['review'] = df['review'].apply(preprocessing_text)"
      ],
      "metadata": {
        "id": "LY7Xgg9-WUce",
        "execution": {
          "iopub.status.busy": "2024-07-30T10:09:12.982890Z",
          "iopub.execute_input": "2024-07-30T10:09:12.983569Z",
          "iopub.status.idle": "2024-07-30T10:09:15.735869Z",
          "shell.execute_reply.started": "2024-07-30T10:09:12.983544Z",
          "shell.execute_reply": "2024-07-30T10:09:15.735010Z"
        },
        "trusted": true
      },
      "execution_count": null,
      "outputs": []
    },
    {
      "cell_type": "code",
      "source": [
        "df['review'][13]"
      ],
      "metadata": {
        "colab": {
          "base_uri": "https://localhost:8080/",
          "height": 88
        },
        "id": "k90tzWwZWYas",
        "outputId": "045a61f5-477f-44e2-c0a0-6898491e96be",
        "execution": {
          "iopub.status.busy": "2024-07-30T10:09:15.737568Z",
          "iopub.execute_input": "2024-07-30T10:09:15.737880Z",
          "iopub.status.idle": "2024-07-30T10:09:15.744233Z",
          "shell.execute_reply.started": "2024-07-30T10:09:15.737837Z",
          "shell.execute_reply": "2024-07-30T10:09:15.743256Z"
        },
        "trusted": true
      },
      "execution_count": null,
      "outputs": [
        {
          "execution_count": 10,
          "output_type": "execute_result",
          "data": {
            "text/plain": "'the cast played shakespearebr br shakespeare lostbr br i appreciate that this is trying to bring shakespeare to the masses but why ruin something so goodbr br is it because the scottish play is my favorite shakespeare i do not know what i do know is that a certain rev bowdler hence bowdlerization tried to do something similar in the victorian erabr br in other words you cannot improve perfectionbr br i have no more to write but as i have to write at least ten lines of text and english composition was never my forte i will just have to keep going and say that this movie as the saying goes just does not cut it'"
          },
          "metadata": {}
        }
      ]
    },
    {
      "cell_type": "markdown",
      "source": [
        "Tokenizing and converting to Sequences (Integer Encoding)"
      ],
      "metadata": {
        "id": "PjMUaAz4aIH1"
      }
    },
    {
      "cell_type": "code",
      "source": [
        "from tensorflow.keras.preprocessing.text import Tokenizer"
      ],
      "metadata": {
        "id": "C3dOXui4aHqe",
        "execution": {
          "iopub.status.busy": "2024-07-30T10:09:15.745289Z",
          "iopub.execute_input": "2024-07-30T10:09:15.745583Z",
          "iopub.status.idle": "2024-07-30T10:09:27.151636Z",
          "shell.execute_reply.started": "2024-07-30T10:09:15.745553Z",
          "shell.execute_reply": "2024-07-30T10:09:27.150522Z"
        },
        "trusted": true,
        "outputId": "0a935f2c-85ce-4442-853c-074b5f07b542"
      },
      "execution_count": null,
      "outputs": [
        {
          "name": "stderr",
          "text": "2024-07-30 10:09:17.306438: E external/local_xla/xla/stream_executor/cuda/cuda_dnn.cc:9261] Unable to register cuDNN factory: Attempting to register factory for plugin cuDNN when one has already been registered\n2024-07-30 10:09:17.306553: E external/local_xla/xla/stream_executor/cuda/cuda_fft.cc:607] Unable to register cuFFT factory: Attempting to register factory for plugin cuFFT when one has already been registered\n2024-07-30 10:09:17.420601: E external/local_xla/xla/stream_executor/cuda/cuda_blas.cc:1515] Unable to register cuBLAS factory: Attempting to register factory for plugin cuBLAS when one has already been registered\n",
          "output_type": "stream"
        }
      ]
    },
    {
      "cell_type": "code",
      "source": [
        "tokenizer = Tokenizer(split=\" \")"
      ],
      "metadata": {
        "id": "1iYEQiNIaUUo",
        "execution": {
          "iopub.status.busy": "2024-07-30T10:09:27.153724Z",
          "iopub.execute_input": "2024-07-30T10:09:27.154251Z",
          "iopub.status.idle": "2024-07-30T10:09:27.160932Z",
          "shell.execute_reply.started": "2024-07-30T10:09:27.154225Z",
          "shell.execute_reply": "2024-07-30T10:09:27.159990Z"
        },
        "trusted": true
      },
      "execution_count": null,
      "outputs": []
    },
    {
      "cell_type": "code",
      "source": [
        "tokenizer.fit_on_texts(df['review'].values)"
      ],
      "metadata": {
        "id": "wiZBJAlXbMG5",
        "execution": {
          "iopub.status.busy": "2024-07-30T10:09:27.162029Z",
          "iopub.execute_input": "2024-07-30T10:09:27.162293Z",
          "iopub.status.idle": "2024-07-30T10:09:37.202381Z",
          "shell.execute_reply.started": "2024-07-30T10:09:27.162271Z",
          "shell.execute_reply": "2024-07-30T10:09:37.201460Z"
        },
        "trusted": true
      },
      "execution_count": null,
      "outputs": []
    },
    {
      "cell_type": "code",
      "source": [
        "x = tokenizer.texts_to_sequences(df['review'].values)"
      ],
      "metadata": {
        "id": "Xw5iJN2CbXNS",
        "execution": {
          "iopub.status.busy": "2024-07-30T10:09:37.203565Z",
          "iopub.execute_input": "2024-07-30T10:09:37.203865Z",
          "iopub.status.idle": "2024-07-30T10:09:44.269348Z",
          "shell.execute_reply.started": "2024-07-30T10:09:37.203839Z",
          "shell.execute_reply": "2024-07-30T10:09:44.268533Z"
        },
        "trusted": true
      },
      "execution_count": null,
      "outputs": []
    },
    {
      "cell_type": "code",
      "source": [
        "from keras.preprocessing.sequence import pad_sequences"
      ],
      "metadata": {
        "id": "-ZASJd84bmn4",
        "execution": {
          "iopub.status.busy": "2024-07-30T10:09:44.270472Z",
          "iopub.execute_input": "2024-07-30T10:09:44.270752Z",
          "iopub.status.idle": "2024-07-30T10:09:44.276411Z",
          "shell.execute_reply.started": "2024-07-30T10:09:44.270728Z",
          "shell.execute_reply": "2024-07-30T10:09:44.275402Z"
        },
        "trusted": true
      },
      "execution_count": null,
      "outputs": []
    },
    {
      "cell_type": "code",
      "source": [
        "X = pad_sequences(x)"
      ],
      "metadata": {
        "id": "uUYCVaWabqMO",
        "execution": {
          "iopub.status.busy": "2024-07-30T10:09:44.277588Z",
          "iopub.execute_input": "2024-07-30T10:09:44.278915Z",
          "iopub.status.idle": "2024-07-30T10:09:45.444232Z",
          "shell.execute_reply.started": "2024-07-30T10:09:44.278888Z",
          "shell.execute_reply": "2024-07-30T10:09:45.443357Z"
        },
        "trusted": true
      },
      "execution_count": null,
      "outputs": []
    },
    {
      "cell_type": "code",
      "source": [
        "length=[]\n",
        "for i in X:\n",
        "  length.append(len(i))\n",
        "max(length)"
      ],
      "metadata": {
        "colab": {
          "base_uri": "https://localhost:8080/"
        },
        "id": "YW1BFxBtjdqo",
        "outputId": "f2aafc98-a0c3-4a62-bc1c-1f2c2ea6254b",
        "execution": {
          "iopub.status.busy": "2024-07-30T10:09:45.445422Z",
          "iopub.execute_input": "2024-07-30T10:09:45.445727Z",
          "iopub.status.idle": "2024-07-30T10:09:45.491216Z",
          "shell.execute_reply.started": "2024-07-30T10:09:45.445701Z",
          "shell.execute_reply": "2024-07-30T10:09:45.490336Z"
        },
        "trusted": true
      },
      "execution_count": null,
      "outputs": [
        {
          "execution_count": 17,
          "output_type": "execute_result",
          "data": {
            "text/plain": "2460"
          },
          "metadata": {}
        }
      ]
    },
    {
      "cell_type": "code",
      "source": [
        "len(tokenizer.word_index)"
      ],
      "metadata": {
        "colab": {
          "base_uri": "https://localhost:8080/"
        },
        "id": "L_-y4OAicBuD",
        "outputId": "a974037c-c596-4eee-aad8-caab9e34efe8",
        "execution": {
          "iopub.status.busy": "2024-07-30T10:09:45.494717Z",
          "iopub.execute_input": "2024-07-30T10:09:45.495029Z",
          "iopub.status.idle": "2024-07-30T10:09:45.501415Z",
          "shell.execute_reply.started": "2024-07-30T10:09:45.494993Z",
          "shell.execute_reply": "2024-07-30T10:09:45.500537Z"
        },
        "trusted": true
      },
      "execution_count": null,
      "outputs": [
        {
          "execution_count": 18,
          "output_type": "execute_result",
          "data": {
            "text/plain": "176094"
          },
          "metadata": {}
        }
      ]
    },
    {
      "cell_type": "markdown",
      "source": [
        "Building a Word2Vec model"
      ],
      "metadata": {
        "id": "Uycj0_YXbgwM"
      }
    },
    {
      "cell_type": "code",
      "source": [
        "from gensim.models import Word2Vec"
      ],
      "metadata": {
        "id": "uxSMAAjvWgLs",
        "execution": {
          "iopub.status.busy": "2024-07-30T10:09:45.502541Z",
          "iopub.execute_input": "2024-07-30T10:09:45.502867Z",
          "iopub.status.idle": "2024-07-30T10:10:01.991470Z",
          "shell.execute_reply.started": "2024-07-30T10:09:45.502841Z",
          "shell.execute_reply": "2024-07-30T10:10:01.990610Z"
        },
        "trusted": true
      },
      "execution_count": null,
      "outputs": []
    },
    {
      "cell_type": "code",
      "source": [
        "reviews =[sent.split() for sent in df['review'].values]"
      ],
      "metadata": {
        "id": "CnFDJpHUY6Z3",
        "execution": {
          "iopub.status.busy": "2024-07-30T10:10:01.992551Z",
          "iopub.execute_input": "2024-07-30T10:10:01.992871Z",
          "iopub.status.idle": "2024-07-30T10:10:03.387418Z",
          "shell.execute_reply.started": "2024-07-30T10:10:01.992844Z",
          "shell.execute_reply": "2024-07-30T10:10:03.386254Z"
        },
        "trusted": true
      },
      "execution_count": null,
      "outputs": []
    },
    {
      "cell_type": "code",
      "source": [
        "word2vec_model = Word2Vec(reviews, sg=1, window=5, vector_size=100)"
      ],
      "metadata": {
        "id": "COtDZoa5Y2Jw",
        "execution": {
          "iopub.status.busy": "2024-07-30T10:10:03.388721Z",
          "iopub.execute_input": "2024-07-30T10:10:03.389119Z",
          "iopub.status.idle": "2024-07-30T10:12:58.285938Z",
          "shell.execute_reply.started": "2024-07-30T10:10:03.389087Z",
          "shell.execute_reply": "2024-07-30T10:12:58.284810Z"
        },
        "trusted": true
      },
      "execution_count": null,
      "outputs": []
    },
    {
      "cell_type": "code",
      "source": [
        "word2vec_model.train(reviews, total_examples=word2vec_model.corpus_count, epochs=10)"
      ],
      "metadata": {
        "execution": {
          "iopub.status.busy": "2024-07-30T10:12:58.287532Z",
          "iopub.execute_input": "2024-07-30T10:12:58.287938Z",
          "iopub.status.idle": "2024-07-30T10:18:38.732125Z",
          "shell.execute_reply.started": "2024-07-30T10:12:58.287900Z",
          "shell.execute_reply": "2024-07-30T10:18:38.731099Z"
        },
        "trusted": true,
        "id": "-SSNTL3XP4Nc",
        "outputId": "0ae8fecc-a836-4cf6-e36f-5e229d0b96b5"
      },
      "execution_count": null,
      "outputs": [
        {
          "execution_count": 22,
          "output_type": "execute_result",
          "data": {
            "text/plain": "(84491352, 114571470)"
          },
          "metadata": {}
        }
      ]
    },
    {
      "cell_type": "markdown",
      "source": [
        "Splitting the data"
      ],
      "metadata": {
        "id": "PaJ2tXYRdOCz"
      }
    },
    {
      "cell_type": "code",
      "source": [
        "df['sentiment'].values"
      ],
      "metadata": {
        "colab": {
          "base_uri": "https://localhost:8080/"
        },
        "id": "MCkMjGUkZ5QC",
        "outputId": "2eca7ac7-6bfa-406a-a572-ff2e85f02196",
        "execution": {
          "iopub.status.busy": "2024-07-30T10:18:38.733517Z",
          "iopub.execute_input": "2024-07-30T10:18:38.733797Z",
          "iopub.status.idle": "2024-07-30T10:18:38.740245Z",
          "shell.execute_reply.started": "2024-07-30T10:18:38.733774Z",
          "shell.execute_reply": "2024-07-30T10:18:38.739358Z"
        },
        "trusted": true
      },
      "execution_count": null,
      "outputs": [
        {
          "execution_count": 23,
          "output_type": "execute_result",
          "data": {
            "text/plain": "array(['positive', 'positive', 'positive', ..., 'negative', 'negative',\n       'negative'], dtype=object)"
          },
          "metadata": {}
        }
      ]
    },
    {
      "cell_type": "code",
      "source": [
        "y = np.array([1 if  i == 'positive' else 0 for i in df['sentiment']])"
      ],
      "metadata": {
        "id": "Pt00Gnt2dUJ8",
        "execution": {
          "iopub.status.busy": "2024-07-30T10:18:38.741434Z",
          "iopub.execute_input": "2024-07-30T10:18:38.741743Z",
          "iopub.status.idle": "2024-07-30T10:18:38.764883Z",
          "shell.execute_reply.started": "2024-07-30T10:18:38.741718Z",
          "shell.execute_reply": "2024-07-30T10:18:38.764091Z"
        },
        "trusted": true
      },
      "execution_count": null,
      "outputs": []
    },
    {
      "cell_type": "code",
      "source": [
        "from sklearn.model_selection import train_test_split"
      ],
      "metadata": {
        "id": "JKv_ljbydyXM",
        "execution": {
          "iopub.status.busy": "2024-07-30T10:18:38.766041Z",
          "iopub.execute_input": "2024-07-30T10:18:38.766450Z",
          "iopub.status.idle": "2024-07-30T10:18:38.919894Z",
          "shell.execute_reply.started": "2024-07-30T10:18:38.766425Z",
          "shell.execute_reply": "2024-07-30T10:18:38.919158Z"
        },
        "trusted": true
      },
      "execution_count": null,
      "outputs": []
    },
    {
      "cell_type": "code",
      "source": [
        "X_train, X_test, y_train, y_test = train_test_split(X, y, test_size=0.2, random_state=42)"
      ],
      "metadata": {
        "id": "PD8Gd52Td10L",
        "execution": {
          "iopub.status.busy": "2024-07-30T10:18:38.920843Z",
          "iopub.execute_input": "2024-07-30T10:18:38.921141Z",
          "iopub.status.idle": "2024-07-30T10:18:39.081799Z",
          "shell.execute_reply.started": "2024-07-30T10:18:38.921115Z",
          "shell.execute_reply": "2024-07-30T10:18:39.080920Z"
        },
        "trusted": true
      },
      "execution_count": null,
      "outputs": []
    },
    {
      "cell_type": "markdown",
      "source": [
        "Creating the Embedding Matrix"
      ],
      "metadata": {
        "id": "QIMvOaL8d_AZ"
      }
    },
    {
      "cell_type": "code",
      "source": [
        "embedding_matrix = np.zeros((len(tokenizer.word_index)+1, 100)) #(vocab_size, vector_size)"
      ],
      "metadata": {
        "id": "L2vym-gqd6Fb",
        "execution": {
          "iopub.status.busy": "2024-07-30T10:18:39.083028Z",
          "iopub.execute_input": "2024-07-30T10:18:39.083371Z",
          "iopub.status.idle": "2024-07-30T10:18:39.088081Z",
          "shell.execute_reply.started": "2024-07-30T10:18:39.083344Z",
          "shell.execute_reply": "2024-07-30T10:18:39.087001Z"
        },
        "trusted": true
      },
      "execution_count": null,
      "outputs": []
    },
    {
      "cell_type": "code",
      "source": [
        "for word, index in tokenizer.word_index.items():\n",
        "  if word in word2vec_model.wv:\n",
        "    embedding_matrix[index] = word2vec_model.wv[word]\n",
        "  else:\n",
        "    embedding_matrix[index] = np.zeros(100)"
      ],
      "metadata": {
        "id": "Ea_4ju1eeIMv",
        "execution": {
          "iopub.status.busy": "2024-07-30T10:18:39.089360Z",
          "iopub.execute_input": "2024-07-30T10:18:39.089725Z",
          "iopub.status.idle": "2024-07-30T10:18:39.784268Z",
          "shell.execute_reply.started": "2024-07-30T10:18:39.089691Z",
          "shell.execute_reply": "2024-07-30T10:18:39.783176Z"
        },
        "trusted": true
      },
      "execution_count": null,
      "outputs": []
    },
    {
      "cell_type": "markdown",
      "source": [
        "Model Building"
      ],
      "metadata": {
        "id": "LfsDYVxjgEe4"
      }
    },
    {
      "cell_type": "code",
      "source": [
        "from keras.models import Sequential\n",
        "from keras.layers import Embedding, LSTM, Dense, Dropout\n",
        "import keras_tuner as kt"
      ],
      "metadata": {
        "id": "q8cdIKjQgKYn",
        "execution": {
          "iopub.status.busy": "2024-07-30T10:18:39.785374Z",
          "iopub.execute_input": "2024-07-30T10:18:39.785617Z",
          "iopub.status.idle": "2024-07-30T10:18:39.912974Z",
          "shell.execute_reply.started": "2024-07-30T10:18:39.785596Z",
          "shell.execute_reply": "2024-07-30T10:18:39.912006Z"
        },
        "trusted": true
      },
      "execution_count": null,
      "outputs": []
    },
    {
      "cell_type": "code",
      "source": [
        "def build_model(hp):\n",
        "    model = Sequential()\n",
        "    model.add(Embedding(input_dim=len(tokenizer.word_index)+1, output_dim=100, input_length=2460, weights=[embedding_matrix], trainable=False))\n",
        "    for i in range(hp.Int('num_layers', min_value=1, max_value=4, step=1)):\n",
        "        model.add(LSTM(units=hp.Int('units'+str(i), min_value=16, max_value=128, step=8), return_sequences=True))\n",
        "    model.add(LSTM(units=hp.Int('unitsf', min_value=8, max_value=64, step=8)))\n",
        "    model.add(Dense(1, activation='sigmoid'))\n",
        "    model.compile(optimizer=hp.Choice('optimizer',values=['adam','nadam']),loss='BinaryCrossentropy', metrics=['accuracy'])\n",
        "    return model"
      ],
      "metadata": {
        "execution": {
          "iopub.status.busy": "2024-07-30T10:18:39.914051Z",
          "iopub.execute_input": "2024-07-30T10:18:39.914289Z",
          "iopub.status.idle": "2024-07-30T10:18:39.922471Z",
          "shell.execute_reply.started": "2024-07-30T10:18:39.914268Z",
          "shell.execute_reply": "2024-07-30T10:18:39.921398Z"
        },
        "trusted": true,
        "id": "AfRf2avmP4Ng"
      },
      "execution_count": null,
      "outputs": []
    },
    {
      "cell_type": "code",
      "source": [
        "tuner = kt.RandomSearch(build_model, objective='val_accuracy', max_trials=10, project_name='IMDB', directory='mydir7')"
      ],
      "metadata": {
        "execution": {
          "iopub.status.busy": "2024-07-30T10:18:39.923843Z",
          "iopub.execute_input": "2024-07-30T10:18:39.924410Z",
          "iopub.status.idle": "2024-07-30T10:18:40.918175Z",
          "shell.execute_reply.started": "2024-07-30T10:18:39.924378Z",
          "shell.execute_reply": "2024-07-30T10:18:40.917073Z"
        },
        "trusted": true,
        "id": "3dR-5wMPP4Nh",
        "outputId": "eb26ef9c-418f-44a8-de25-7d57b46e08ca"
      },
      "execution_count": null,
      "outputs": [
        {
          "name": "stderr",
          "text": "/opt/conda/lib/python3.10/site-packages/keras/src/layers/core/embedding.py:90: UserWarning: Argument `input_length` is deprecated. Just remove it.\n  warnings.warn(\n",
          "output_type": "stream"
        }
      ]
    },
    {
      "cell_type": "code",
      "source": [
        "tuner.search(X_train, y_train, epochs=2, batch_size=128, validation_data=(X_test, y_test))"
      ],
      "metadata": {
        "execution": {
          "iopub.status.busy": "2024-07-30T10:18:40.919664Z",
          "iopub.execute_input": "2024-07-30T10:18:40.920098Z",
          "iopub.status.idle": "2024-07-30T10:51:13.129388Z",
          "shell.execute_reply.started": "2024-07-30T10:18:40.920059Z",
          "shell.execute_reply": "2024-07-30T10:51:13.128443Z"
        },
        "trusted": true,
        "id": "EJtf_JTWP4Ni",
        "outputId": "6668d7d7-c487-49bb-ac5d-8aeb9e531a43"
      },
      "execution_count": null,
      "outputs": [
        {
          "name": "stdout",
          "text": "Trial 10 Complete [00h 04m 45s]\nval_accuracy: 0.8518999814987183\n\nBest val_accuracy So Far: 0.878000020980835\nTotal elapsed time: 00h 32m 32s\n",
          "output_type": "stream"
        }
      ]
    },
    {
      "cell_type": "code",
      "source": [
        "tuner.get_best_hyperparameters()[0].values"
      ],
      "metadata": {
        "execution": {
          "iopub.status.busy": "2024-07-30T10:51:23.229483Z",
          "iopub.execute_input": "2024-07-30T10:51:23.229867Z",
          "iopub.status.idle": "2024-07-30T10:51:23.236629Z",
          "shell.execute_reply.started": "2024-07-30T10:51:23.229840Z",
          "shell.execute_reply": "2024-07-30T10:51:23.235643Z"
        },
        "trusted": true,
        "id": "OCbAkgxDP4Ni",
        "outputId": "df33b4ff-5bc0-44ed-f8ca-45ab8e127f58"
      },
      "execution_count": null,
      "outputs": [
        {
          "execution_count": 33,
          "output_type": "execute_result",
          "data": {
            "text/plain": "{'num_layers': 2,\n 'units0': 112,\n 'unitsf': 64,\n 'optimizer': 'nadam',\n 'units1': 96,\n 'units2': 96,\n 'units3': 40}"
          },
          "metadata": {}
        }
      ]
    },
    {
      "cell_type": "code",
      "source": [
        "model = tuner.get_best_models(num_models=1)[0]"
      ],
      "metadata": {
        "execution": {
          "iopub.status.busy": "2024-07-30T10:52:19.024591Z",
          "iopub.execute_input": "2024-07-30T10:52:19.025007Z",
          "iopub.status.idle": "2024-07-30T10:52:20.991272Z",
          "shell.execute_reply.started": "2024-07-30T10:52:19.024969Z",
          "shell.execute_reply": "2024-07-30T10:52:20.990281Z"
        },
        "trusted": true,
        "id": "sTFXbAyXP4Ni",
        "outputId": "061ab431-8414-4a90-9f55-980f5669b8ce"
      },
      "execution_count": null,
      "outputs": [
        {
          "name": "stderr",
          "text": "/opt/conda/lib/python3.10/site-packages/keras/src/saving/saving_lib.py:576: UserWarning: Skipping variable loading for optimizer 'nadam', because it has 2 variables whereas the saved optimizer has 25 variables. \n  saveable.load_own_variables(weights_store.get(inner_path))\n",
          "output_type": "stream"
        }
      ]
    },
    {
      "cell_type": "code",
      "source": [
        "model.summary()"
      ],
      "metadata": {
        "execution": {
          "iopub.status.busy": "2024-07-30T11:35:05.298840Z",
          "iopub.execute_input": "2024-07-30T11:35:05.299681Z",
          "iopub.status.idle": "2024-07-30T11:35:05.324836Z",
          "shell.execute_reply.started": "2024-07-30T11:35:05.299647Z",
          "shell.execute_reply": "2024-07-30T11:35:05.323961Z"
        },
        "trusted": true,
        "id": "pv0gi5MyP4Nt",
        "outputId": "3dd2a2f8-473e-4bb8-cc71-db22baf30df3"
      },
      "execution_count": null,
      "outputs": [
        {
          "output_type": "display_data",
          "data": {
            "text/plain": "\u001b[1mModel: \"sequential\"\u001b[0m\n",
            "text/html": "<pre style=\"white-space:pre;overflow-x:auto;line-height:normal;font-family:Menlo,'DejaVu Sans Mono',consolas,'Courier New',monospace\"><span style=\"font-weight: bold\">Model: \"sequential\"</span>\n</pre>\n"
          },
          "metadata": {}
        },
        {
          "output_type": "display_data",
          "data": {
            "text/plain": "┏━━━━━━━━━━━━━━━━━━━━━━━━━━━━━━━━━┳━━━━━━━━━━━━━━━━━━━━━━━━┳━━━━━━━━━━━━━━━┓\n┃\u001b[1m \u001b[0m\u001b[1mLayer (type)                   \u001b[0m\u001b[1m \u001b[0m┃\u001b[1m \u001b[0m\u001b[1mOutput Shape          \u001b[0m\u001b[1m \u001b[0m┃\u001b[1m \u001b[0m\u001b[1m      Param #\u001b[0m\u001b[1m \u001b[0m┃\n┡━━━━━━━━━━━━━━━━━━━━━━━━━━━━━━━━━╇━━━━━━━━━━━━━━━━━━━━━━━━╇━━━━━━━━━━━━━━━┩\n│ embedding (\u001b[38;5;33mEmbedding\u001b[0m)           │ (\u001b[38;5;45mNone\u001b[0m, \u001b[38;5;34m2460\u001b[0m, \u001b[38;5;34m100\u001b[0m)      │    \u001b[38;5;34m17,609,500\u001b[0m │\n├─────────────────────────────────┼────────────────────────┼───────────────┤\n│ lstm (\u001b[38;5;33mLSTM\u001b[0m)                     │ (\u001b[38;5;45mNone\u001b[0m, \u001b[38;5;34m2460\u001b[0m, \u001b[38;5;34m112\u001b[0m)      │        \u001b[38;5;34m95,424\u001b[0m │\n├─────────────────────────────────┼────────────────────────┼───────────────┤\n│ lstm_1 (\u001b[38;5;33mLSTM\u001b[0m)                   │ (\u001b[38;5;45mNone\u001b[0m, \u001b[38;5;34m2460\u001b[0m, \u001b[38;5;34m96\u001b[0m)       │        \u001b[38;5;34m80,256\u001b[0m │\n├─────────────────────────────────┼────────────────────────┼───────────────┤\n│ lstm_2 (\u001b[38;5;33mLSTM\u001b[0m)                   │ (\u001b[38;5;45mNone\u001b[0m, \u001b[38;5;34m64\u001b[0m)             │        \u001b[38;5;34m41,216\u001b[0m │\n├─────────────────────────────────┼────────────────────────┼───────────────┤\n│ dense (\u001b[38;5;33mDense\u001b[0m)                   │ (\u001b[38;5;45mNone\u001b[0m, \u001b[38;5;34m1\u001b[0m)              │            \u001b[38;5;34m65\u001b[0m │\n└─────────────────────────────────┴────────────────────────┴───────────────┘\n",
            "text/html": "<pre style=\"white-space:pre;overflow-x:auto;line-height:normal;font-family:Menlo,'DejaVu Sans Mono',consolas,'Courier New',monospace\">┏━━━━━━━━━━━━━━━━━━━━━━━━━━━━━━━━━┳━━━━━━━━━━━━━━━━━━━━━━━━┳━━━━━━━━━━━━━━━┓\n┃<span style=\"font-weight: bold\"> Layer (type)                    </span>┃<span style=\"font-weight: bold\"> Output Shape           </span>┃<span style=\"font-weight: bold\">       Param # </span>┃\n┡━━━━━━━━━━━━━━━━━━━━━━━━━━━━━━━━━╇━━━━━━━━━━━━━━━━━━━━━━━━╇━━━━━━━━━━━━━━━┩\n│ embedding (<span style=\"color: #0087ff; text-decoration-color: #0087ff\">Embedding</span>)           │ (<span style=\"color: #00d7ff; text-decoration-color: #00d7ff\">None</span>, <span style=\"color: #00af00; text-decoration-color: #00af00\">2460</span>, <span style=\"color: #00af00; text-decoration-color: #00af00\">100</span>)      │    <span style=\"color: #00af00; text-decoration-color: #00af00\">17,609,500</span> │\n├─────────────────────────────────┼────────────────────────┼───────────────┤\n│ lstm (<span style=\"color: #0087ff; text-decoration-color: #0087ff\">LSTM</span>)                     │ (<span style=\"color: #00d7ff; text-decoration-color: #00d7ff\">None</span>, <span style=\"color: #00af00; text-decoration-color: #00af00\">2460</span>, <span style=\"color: #00af00; text-decoration-color: #00af00\">112</span>)      │        <span style=\"color: #00af00; text-decoration-color: #00af00\">95,424</span> │\n├─────────────────────────────────┼────────────────────────┼───────────────┤\n│ lstm_1 (<span style=\"color: #0087ff; text-decoration-color: #0087ff\">LSTM</span>)                   │ (<span style=\"color: #00d7ff; text-decoration-color: #00d7ff\">None</span>, <span style=\"color: #00af00; text-decoration-color: #00af00\">2460</span>, <span style=\"color: #00af00; text-decoration-color: #00af00\">96</span>)       │        <span style=\"color: #00af00; text-decoration-color: #00af00\">80,256</span> │\n├─────────────────────────────────┼────────────────────────┼───────────────┤\n│ lstm_2 (<span style=\"color: #0087ff; text-decoration-color: #0087ff\">LSTM</span>)                   │ (<span style=\"color: #00d7ff; text-decoration-color: #00d7ff\">None</span>, <span style=\"color: #00af00; text-decoration-color: #00af00\">64</span>)             │        <span style=\"color: #00af00; text-decoration-color: #00af00\">41,216</span> │\n├─────────────────────────────────┼────────────────────────┼───────────────┤\n│ dense (<span style=\"color: #0087ff; text-decoration-color: #0087ff\">Dense</span>)                   │ (<span style=\"color: #00d7ff; text-decoration-color: #00d7ff\">None</span>, <span style=\"color: #00af00; text-decoration-color: #00af00\">1</span>)              │            <span style=\"color: #00af00; text-decoration-color: #00af00\">65</span> │\n└─────────────────────────────────┴────────────────────────┴───────────────┘\n</pre>\n"
          },
          "metadata": {}
        },
        {
          "output_type": "display_data",
          "data": {
            "text/plain": "\u001b[1m Total params: \u001b[0m\u001b[38;5;34m18,260,386\u001b[0m (69.66 MB)\n",
            "text/html": "<pre style=\"white-space:pre;overflow-x:auto;line-height:normal;font-family:Menlo,'DejaVu Sans Mono',consolas,'Courier New',monospace\"><span style=\"font-weight: bold\"> Total params: </span><span style=\"color: #00af00; text-decoration-color: #00af00\">18,260,386</span> (69.66 MB)\n</pre>\n"
          },
          "metadata": {}
        },
        {
          "output_type": "display_data",
          "data": {
            "text/plain": "\u001b[1m Trainable params: \u001b[0m\u001b[38;5;34m216,961\u001b[0m (847.50 KB)\n",
            "text/html": "<pre style=\"white-space:pre;overflow-x:auto;line-height:normal;font-family:Menlo,'DejaVu Sans Mono',consolas,'Courier New',monospace\"><span style=\"font-weight: bold\"> Trainable params: </span><span style=\"color: #00af00; text-decoration-color: #00af00\">216,961</span> (847.50 KB)\n</pre>\n"
          },
          "metadata": {}
        },
        {
          "output_type": "display_data",
          "data": {
            "text/plain": "\u001b[1m Non-trainable params: \u001b[0m\u001b[38;5;34m17,609,500\u001b[0m (67.17 MB)\n",
            "text/html": "<pre style=\"white-space:pre;overflow-x:auto;line-height:normal;font-family:Menlo,'DejaVu Sans Mono',consolas,'Courier New',monospace\"><span style=\"font-weight: bold\"> Non-trainable params: </span><span style=\"color: #00af00; text-decoration-color: #00af00\">17,609,500</span> (67.17 MB)\n</pre>\n"
          },
          "metadata": {}
        },
        {
          "output_type": "display_data",
          "data": {
            "text/plain": "\u001b[1m Optimizer params: \u001b[0m\u001b[38;5;34m433,925\u001b[0m (1.66 MB)\n",
            "text/html": "<pre style=\"white-space:pre;overflow-x:auto;line-height:normal;font-family:Menlo,'DejaVu Sans Mono',consolas,'Courier New',monospace\"><span style=\"font-weight: bold\"> Optimizer params: </span><span style=\"color: #00af00; text-decoration-color: #00af00\">433,925</span> (1.66 MB)\n</pre>\n"
          },
          "metadata": {}
        }
      ]
    },
    {
      "cell_type": "code",
      "source": [
        "model.fit(X_train, y_train, batch_size=128, epochs=10, initial_epoch=3, validation_data=(X_test, y_test))"
      ],
      "metadata": {
        "execution": {
          "iopub.status.busy": "2024-07-30T10:52:39.784630Z",
          "iopub.execute_input": "2024-07-30T10:52:39.785028Z",
          "iopub.status.idle": "2024-07-30T11:06:10.946770Z",
          "shell.execute_reply.started": "2024-07-30T10:52:39.784998Z",
          "shell.execute_reply": "2024-07-30T11:06:10.945708Z"
        },
        "trusted": true,
        "id": "JFKr_KC9P4Nu",
        "outputId": "9eaea2c5-efff-4aa2-b9ef-a5cea43196c5"
      },
      "execution_count": null,
      "outputs": [
        {
          "name": "stdout",
          "text": "Epoch 4/10\n\u001b[1m313/313\u001b[0m \u001b[32m━━━━━━━━━━━━━━━━━━━━\u001b[0m\u001b[37m\u001b[0m \u001b[1m118s\u001b[0m 368ms/step - accuracy: 0.8623 - loss: 0.3293 - val_accuracy: 0.8677 - val_loss: 0.3060\nEpoch 5/10\n\u001b[1m313/313\u001b[0m \u001b[32m━━━━━━━━━━━━━━━━━━━━\u001b[0m\u001b[37m\u001b[0m \u001b[1m114s\u001b[0m 365ms/step - accuracy: 0.8765 - loss: 0.2977 - val_accuracy: 0.8886 - val_loss: 0.2688\nEpoch 6/10\n\u001b[1m313/313\u001b[0m \u001b[32m━━━━━━━━━━━━━━━━━━━━\u001b[0m\u001b[37m\u001b[0m \u001b[1m114s\u001b[0m 364ms/step - accuracy: 0.8868 - loss: 0.2802 - val_accuracy: 0.8605 - val_loss: 0.3280\nEpoch 7/10\n\u001b[1m313/313\u001b[0m \u001b[32m━━━━━━━━━━━━━━━━━━━━\u001b[0m\u001b[37m\u001b[0m \u001b[1m116s\u001b[0m 369ms/step - accuracy: 0.8112 - loss: 0.4058 - val_accuracy: 0.8938 - val_loss: 0.2530\nEpoch 8/10\n\u001b[1m313/313\u001b[0m \u001b[32m━━━━━━━━━━━━━━━━━━━━\u001b[0m\u001b[37m\u001b[0m \u001b[1m116s\u001b[0m 372ms/step - accuracy: 0.8975 - loss: 0.2527 - val_accuracy: 0.9062 - val_loss: 0.2315\nEpoch 9/10\n\u001b[1m313/313\u001b[0m \u001b[32m━━━━━━━━━━━━━━━━━━━━\u001b[0m\u001b[37m\u001b[0m \u001b[1m116s\u001b[0m 371ms/step - accuracy: 0.9073 - loss: 0.2314 - val_accuracy: 0.8972 - val_loss: 0.2424\nEpoch 10/10\n\u001b[1m313/313\u001b[0m \u001b[32m━━━━━━━━━━━━━━━━━━━━\u001b[0m\u001b[37m\u001b[0m \u001b[1m116s\u001b[0m 371ms/step - accuracy: 0.9137 - loss: 0.2192 - val_accuracy: 0.9118 - val_loss: 0.2195\n",
          "output_type": "stream"
        },
        {
          "execution_count": 35,
          "output_type": "execute_result",
          "data": {
            "text/plain": "<keras.src.callbacks.history.History at 0x7c7b2261fa00>"
          },
          "metadata": {}
        }
      ]
    },
    {
      "cell_type": "code",
      "source": [
        "model.evaluate(X_test, y_test)"
      ],
      "metadata": {
        "execution": {
          "iopub.status.busy": "2024-07-30T11:06:33.823942Z",
          "iopub.execute_input": "2024-07-30T11:06:33.824341Z",
          "iopub.status.idle": "2024-07-30T11:07:14.969589Z",
          "shell.execute_reply.started": "2024-07-30T11:06:33.824312Z",
          "shell.execute_reply": "2024-07-30T11:07:14.968649Z"
        },
        "trusted": true,
        "id": "UhtQqPgPP4Nv",
        "outputId": "f3750ef5-59cf-4738-c444-52e8412ced06"
      },
      "execution_count": null,
      "outputs": [
        {
          "name": "stdout",
          "text": "\u001b[1m313/313\u001b[0m \u001b[32m━━━━━━━━━━━━━━━━━━━━\u001b[0m\u001b[37m\u001b[0m \u001b[1m25s\u001b[0m 80ms/step - accuracy: 0.9108 - loss: 0.2203\n",
          "output_type": "stream"
        },
        {
          "execution_count": 36,
          "output_type": "execute_result",
          "data": {
            "text/plain": "[0.21945638954639435, 0.9118000268936157]"
          },
          "metadata": {}
        }
      ]
    },
    {
      "cell_type": "code",
      "source": [
        "model.save('sentiment.h5')"
      ],
      "metadata": {
        "execution": {
          "iopub.status.busy": "2024-07-30T11:29:39.026429Z",
          "iopub.execute_input": "2024-07-30T11:29:39.027072Z",
          "iopub.status.idle": "2024-07-30T11:29:39.281655Z",
          "shell.execute_reply.started": "2024-07-30T11:29:39.027038Z",
          "shell.execute_reply": "2024-07-30T11:29:39.280650Z"
        },
        "trusted": true,
        "id": "VV6m0bAUP4Nv"
      },
      "execution_count": null,
      "outputs": []
    },
    {
      "cell_type": "code",
      "source": [
        "import pickle"
      ],
      "metadata": {
        "execution": {
          "iopub.status.busy": "2024-07-30T11:33:53.622121Z",
          "iopub.execute_input": "2024-07-30T11:33:53.622512Z",
          "iopub.status.idle": "2024-07-30T11:33:53.628471Z",
          "shell.execute_reply.started": "2024-07-30T11:33:53.622478Z",
          "shell.execute_reply": "2024-07-30T11:33:53.627395Z"
        },
        "trusted": true,
        "id": "N-ju2l-vP4Nw"
      },
      "execution_count": null,
      "outputs": []
    },
    {
      "cell_type": "code",
      "source": [
        "with open('tokenizer.pickle', 'wb') as handle:\n",
        "    pickle.dump(tokenizer, handle, protocol=pickle.HIGHEST_PROTOCOL)"
      ],
      "metadata": {
        "execution": {
          "iopub.status.busy": "2024-07-30T11:34:02.621890Z",
          "iopub.execute_input": "2024-07-30T11:34:02.622325Z",
          "iopub.status.idle": "2024-07-30T11:34:02.837819Z",
          "shell.execute_reply.started": "2024-07-30T11:34:02.622293Z",
          "shell.execute_reply": "2024-07-30T11:34:02.836687Z"
        },
        "trusted": true,
        "id": "RNIQdRs_P4Nw"
      },
      "execution_count": null,
      "outputs": []
    },
    {
      "cell_type": "code",
      "source": [],
      "metadata": {
        "id": "Mha8rd1ZnWzo"
      },
      "execution_count": null,
      "outputs": []
    }
  ]
}